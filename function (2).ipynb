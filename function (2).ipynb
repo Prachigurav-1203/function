{
  "nbformat": 4,
  "nbformat_minor": 0,
  "metadata": {
    "colab": {
      "provenance": []
    },
    "kernelspec": {
      "name": "python3",
      "display_name": "Python 3"
    },
    "language_info": {
      "name": "python"
    }
  },
  "cells": [
    {
      "cell_type": "code",
      "execution_count": null,
      "metadata": {
        "id": "jkd07OE-Lia5"
      },
      "outputs": [],
      "source": []
    },
    {
      "cell_type": "markdown",
      "source": [
        "1. What is the difference between a function and a method in Python?\n",
        "   - A function is a block of code defined using def and can be called independently. A method is a function that is associated with an object (usually a class instance).\n",
        "Example:\n",
        "          def greet(): return \"Hi\"       \n",
        "         \"hello\".upper()\n",
        "\n",
        "2. Explain the concept of function arguments and parameters in Python.\n",
        "  - Parameters are variables listed in the function definition; arguments are the values passed during the function call.\n",
        "\n",
        "Example:\n",
        "\n",
        "   def greet(name):  \n",
        "       print(\"Hello\", name)\n",
        "       greet(\"Alice\")  \n",
        "\n",
        "3. What are the different ways to define and call a function in Python?\n",
        "  - Functions can be defined with def or using lambda for anonymous functions. You can call functions directly, pass them as arguments, or use them in expressions.\n",
        "\n",
        "Example:\n",
        "  def add(a, b):\n",
        "    return a + b  \n",
        "    result = add(2, 3)  \n",
        "4. What is the purpose of the return statement in a Python function?\n",
        "  - return is used to send a value back to the caller and exit the function. Without it, the function returns None.\n",
        "\n",
        "Example:\n",
        "\n",
        " def square(x):\n",
        "    return x * x\n",
        "print(square(4))  \n",
        "\n",
        "5. What are iterators in Python and how do they differ from iterables?\n",
        "  - Iterables are objects that can return an iterator (like lists). Iterators are objects with __next__() method used to iterate over items one at a time.\n",
        "\n",
        "Example:\n",
        "\n",
        "  nums = [1, 2, 3]       \n",
        "  it = iter(nums)         \n",
        "  print(next(it))        \n",
        "\n",
        "6. Explain the concept of generators in Python and how they are defined.\n",
        "  - Generators are special functions that use yield instead of return to produce a sequence of values lazily (on demand).\n",
        "\n",
        " Example:\n",
        "  def count_up():\n",
        "      yield 1\n",
        "      yield 2\n",
        "print(list(count_up()))  \n",
        "\n",
        "7. What are the advantages of using generators over regular functions?\n",
        "  - Generators save memory and improve performance as they yield values one by one instead of returning a whole list. They are useful for large data streams.\n",
        "\n",
        "Example:\n",
        "\n",
        "  def gen():\n",
        "     \n",
        "     for i in range(1000000):\n",
        "        yield i\n",
        "8. What is a lambda function in Python and when is it typically used?\n",
        "  - A lambda is an anonymous, one-line function often used for short tasks like sorting or with map, filter.\n",
        "\n",
        "Example:\n",
        "\n",
        "square = lambda x: x * x\n",
        "\n",
        "print(square(5))  # Output: 25\n",
        "\n",
        "9. Explain the purpose and usage of the map() function in Python.\n",
        "  - map() applies a function to every item of an iterable and returns a map object (an iterator).\n",
        "\n",
        "Example:\n",
        "\n",
        "nums = [1, 2, 3]\n",
        "\n",
        "squared = map(lambda x: x**2, nums)\n",
        "\n",
        "print(list(squared))  # Output: [1, 4, 9]\n",
        "\n",
        "10. What is the difference between map(), reduce(), and filter() functions in Python?\n",
        "\n",
        "  - map() applies a function to all items.\n",
        "\n",
        "  - filter() selects items where the function returns True.\n",
        "\n",
        "  - reduce() (from functools) reduces all values to a single result.\n",
        "\n",
        "Example:\n",
        "\n",
        "from functools import reduce\n",
        "\n",
        "nums = [1, 2, 3, 4]\n",
        "\n",
        "print(list(map(lambda x: x*2, nums)))     # [2, 4, 6, 8]\n",
        "\n",
        "print(list(filter(lambda x: x%2==0, nums)))  # [2, 4]\n",
        "\n",
        "print(reduce(lambda x, y: x + y, nums))   # 10              \n"
      ],
      "metadata": {
        "id": "zjjktu3dLmLY"
      }
    },
    {
      "cell_type": "code",
      "source": [
        "# 1. Write a Python function that takes a list of numbers as input and returns the sum of all even numbers in\n",
        "'''ans'''\n",
        "def sum_of_evens(numbers):\n",
        "    return sum(num for num in numbers if num % 2 == 0)\n",
        "\n",
        "print(sum_of_evens([1, 2, 3, 4, 5, 6]))\n"
      ],
      "metadata": {
        "colab": {
          "base_uri": "https://localhost:8080/"
        },
        "id": "lwkpqKkUNgsZ",
        "outputId": "81a07562-9849-4756-99e0-2a53c450aad5"
      },
      "execution_count": 1,
      "outputs": [
        {
          "output_type": "stream",
          "name": "stdout",
          "text": [
            "12\n"
          ]
        }
      ]
    },
    {
      "cell_type": "code",
      "source": [
        "# 2. Create a Python function that accepts a string and returns the reverse of that string\n",
        "'''ans'''\n",
        "def reverse_string(s):\n",
        "    return s[::-1]\n",
        "\n",
        "print(reverse_string(\"Python\"))\n"
      ],
      "metadata": {
        "colab": {
          "base_uri": "https://localhost:8080/"
        },
        "id": "OAPvxQJYQ5i_",
        "outputId": "480d04f3-68b6-492c-d2a7-79cb14d6757c"
      },
      "execution_count": 2,
      "outputs": [
        {
          "output_type": "stream",
          "name": "stdout",
          "text": [
            "nohtyP\n"
          ]
        }
      ]
    },
    {
      "cell_type": "code",
      "source": [
        "# 3 . Implement a Python function that takes a list of integers and returns a new list containing the squares of\n",
        "'''ans'''\n",
        "def square_list(nums):\n",
        "    return [x ** 2 for x in nums]\n",
        "\n",
        "print(square_list([1, 2, 3, 4]))\n"
      ],
      "metadata": {
        "colab": {
          "base_uri": "https://localhost:8080/"
        },
        "id": "P8KMDPvqRA72",
        "outputId": "c4706bfb-d07e-4381-e725-c3426c23617d"
      },
      "execution_count": 3,
      "outputs": [
        {
          "output_type": "stream",
          "name": "stdout",
          "text": [
            "[1, 4, 9, 16]\n"
          ]
        }
      ]
    },
    {
      "cell_type": "code",
      "source": [
        "# 4. Write a Python function that checks if a given number is prime or not from 1 to 200.\n",
        "'''ans'''\n",
        "def is_prime(n):\n",
        "    if n <= 1:\n",
        "        return False\n",
        "    for i in range(2, int(n**0.5)+1):\n",
        "        if n % i == 0:\n",
        "            return False\n",
        "    return True\n",
        "\n",
        "for num in range(1, 201):\n",
        "    if is_prime(num):\n",
        "        print(num, end=\" \")\n"
      ],
      "metadata": {
        "colab": {
          "base_uri": "https://localhost:8080/"
        },
        "id": "AsICGvBWRJsY",
        "outputId": "00f526b2-90bf-4238-8dd3-0bd327c3c785"
      },
      "execution_count": 4,
      "outputs": [
        {
          "output_type": "stream",
          "name": "stdout",
          "text": [
            "2 3 5 7 11 13 17 19 23 29 31 37 41 43 47 53 59 61 67 71 73 79 83 89 97 101 103 107 109 113 127 131 137 139 149 151 157 163 167 173 179 181 191 193 197 199 "
          ]
        }
      ]
    },
    {
      "cell_type": "code",
      "source": [
        "# 5. Create an iterator class in Python that generates the Fibonacci sequence up to a specified number of\n",
        "'''ans'''\n",
        "class Fibonacci:\n",
        "    def __init__(self, max_terms):\n",
        "        self.max_terms = max_terms\n",
        "        self.a, self.b = 0, 1\n",
        "        self.count = 0\n",
        "\n",
        "    def __iter__(self):\n",
        "        return self\n",
        "\n",
        "    def __next__(self):\n",
        "        if self.count >= self.max_terms:\n",
        "            raise StopIteration\n",
        "        value = self.a\n",
        "        self.a, self.b = self.b, self.a + self.b\n",
        "        self.count += 1\n",
        "        return value\n",
        "\n",
        "fib = Fibonacci(10)\n",
        "for num in fib:\n",
        "    print(num, end=\" \")\n"
      ],
      "metadata": {
        "colab": {
          "base_uri": "https://localhost:8080/"
        },
        "id": "_77MlKPARQHL",
        "outputId": "94dc8ca9-f8ee-4d78-ab69-d1eee864dcb4"
      },
      "execution_count": 5,
      "outputs": [
        {
          "output_type": "stream",
          "name": "stdout",
          "text": [
            "0 1 1 2 3 5 8 13 21 34 "
          ]
        }
      ]
    },
    {
      "cell_type": "code",
      "source": [
        "# 6. Write a generator function in Python that yields the powers of 2 up to a given exponent.\n",
        "'''ans'''\n",
        "def powers_of_two(n):\n",
        "    for i in range(n + 1):\n",
        "        yield 2 ** i\n",
        "\n",
        "for power in powers_of_two(5):\n",
        "    print(power, end=\" \")\n"
      ],
      "metadata": {
        "colab": {
          "base_uri": "https://localhost:8080/"
        },
        "id": "SHO5PsfwRXlW",
        "outputId": "4b2b0355-1879-41b6-da61-4ec02b850dcf"
      },
      "execution_count": 6,
      "outputs": [
        {
          "output_type": "stream",
          "name": "stdout",
          "text": [
            "1 2 4 8 16 32 "
          ]
        }
      ]
    },
    {
      "cell_type": "code",
      "source": [
        "# 7. Implement a generator function that reads a file line by line and yields each line as a string.\n",
        "'''ans'''\n",
        "def read_file_lines(filepath):\n",
        "    with open(filepath, 'r') as f:\n",
        "        for line in f:\n",
        "            yield line.strip()\n",
        "\n",
        "# Example: save the file with some lines and read\n",
        "# Save this first:\n",
        "with open(\"sample.txt\", \"w\") as f:\n",
        "    f.write(\"Line 1\\nLine 2\\nLine 3\")\n",
        "\n",
        "for line in read_file_lines(\"sample.txt\"):\n",
        "    print(line)\n"
      ],
      "metadata": {
        "colab": {
          "base_uri": "https://localhost:8080/"
        },
        "id": "sWSZamRfRdm5",
        "outputId": "4694210b-b4a3-49e2-f3e9-741fa3e999f2"
      },
      "execution_count": 7,
      "outputs": [
        {
          "output_type": "stream",
          "name": "stdout",
          "text": [
            "Line 1\n",
            "Line 2\n",
            "Line 3\n"
          ]
        }
      ]
    },
    {
      "cell_type": "code",
      "source": [
        "# 8. Use a lambda function in Python to sort a list of tuples based on the second element of each tuple.\n",
        "'''ans'''\n",
        "tuples = [(1, 3), (2, 1), (4, 2)]\n",
        "sorted_tuples = sorted(tuples, key=lambda x: x[1])\n",
        "print(sorted_tuples)\n"
      ],
      "metadata": {
        "colab": {
          "base_uri": "https://localhost:8080/"
        },
        "id": "oB90jk7oRkJ3",
        "outputId": "f8c420c6-aa59-4ea2-fee3-97125e1a083b"
      },
      "execution_count": 8,
      "outputs": [
        {
          "output_type": "stream",
          "name": "stdout",
          "text": [
            "[(2, 1), (4, 2), (1, 3)]\n"
          ]
        }
      ]
    },
    {
      "cell_type": "code",
      "source": [
        "# 9. Write a Python program that uses `map()` to convert a list of temperatures from Celsius to Fahrenheit.\n",
        "'''ans'''\n",
        "celsius = [0, 20, 30, 40]\n",
        "fahrenheit = list(map(lambda c: (c * 9/5) + 32, celsius))\n",
        "print(fahrenheit)\n"
      ],
      "metadata": {
        "colab": {
          "base_uri": "https://localhost:8080/"
        },
        "id": "OU_mXLe3RqOd",
        "outputId": "2de2341c-3957-48e1-9b53-0830bdf3034b"
      },
      "execution_count": 9,
      "outputs": [
        {
          "output_type": "stream",
          "name": "stdout",
          "text": [
            "[32.0, 68.0, 86.0, 104.0]\n"
          ]
        }
      ]
    },
    {
      "cell_type": "code",
      "source": [
        "# 10. Create a Python program that uses `filter()` to remove all the vowels from a given string.\n",
        "'''ans'''\n",
        "def remove_vowels(s):\n",
        "    return ''.join(filter(lambda x: x.lower() not in \"aeiou\", s))\n",
        "\n",
        "print(remove_vowels(\"Hello World\"))\n"
      ],
      "metadata": {
        "colab": {
          "base_uri": "https://localhost:8080/"
        },
        "id": "0iBAHRCURwT3",
        "outputId": "1b4b6501-1a51-499a-ff35-ac0fc3e171cf"
      },
      "execution_count": 10,
      "outputs": [
        {
          "output_type": "stream",
          "name": "stdout",
          "text": [
            "Hll Wrld\n"
          ]
        }
      ]
    },
    {
      "cell_type": "code",
      "source": [
        "''' 11) Imagine an accounting routine used in a book shop. It works on a list with sublists, which look like this:\n",
        "\n",
        "Write a Python program, which returns a list with 2-tuples. Each tuple consists of the order number and the\n",
        "product of the price per item and the quantity. The product should be increased by 10,- € if the value of the\n",
        "order is smaller than 100,00 €.\n",
        "\n",
        "Write a Python program using lambda and map'''\n",
        "'''ans'''\n",
        "orders = [\n",
        "    [34587, \"Learning Python, Mark Lutz\", 4, 40.95],\n",
        "    [98762, \"Programming Python, Mark Lutz\", 5, 56.80],\n",
        "    [77226, \"Head First Python, Paul Barry\", 3, 32.95],\n",
        "    [88112, \"Einführung in Python3, Bernd Klein\", 3, 24.99]\n",
        "]\n",
        "\n",
        "# Using lambda and map\n",
        "invoice = list(map(lambda order: (order[0], order[2]*order[3] + 10) if order[2]*order[3] < 100 else (order[0], order[2]*order[3]), orders))\n",
        "\n",
        "print(invoice)\n"
      ],
      "metadata": {
        "colab": {
          "base_uri": "https://localhost:8080/"
        },
        "id": "HENKrh-XR1kc",
        "outputId": "4ba5d0b3-c986-405e-82fd-4bb6794ed427"
      },
      "execution_count": 11,
      "outputs": [
        {
          "output_type": "stream",
          "name": "stdout",
          "text": [
            "[(34587, 163.8), (98762, 284.0), (77226, 108.85000000000001), (88112, 84.97)]\n"
          ]
        }
      ]
    },
    {
      "cell_type": "code",
      "source": [],
      "metadata": {
        "id": "87-_R80_S49R"
      },
      "execution_count": null,
      "outputs": []
    }
  ]
}